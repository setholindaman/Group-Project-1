{
 "cells": [
  {
   "cell_type": "markdown",
   "metadata": {},
   "source": [
    "# DU Data Viz Project Proposal\n",
    "## Team: Seth, Mona, Ryan, Mendie, Dawn"
   ]
  },
  {
   "cell_type": "markdown",
   "metadata": {},
   "source": [
    "## Project Title\n",
    "### Project Description - question, data, goal"
   ]
  },
  {
   "cell_type": "markdown",
   "metadata": {},
   "source": [
    "### Team members\n",
    "\n",
    "   - team member1, email\n",
    "   - team member2, email\n",
    "   - team member3, email\n",
    "   - team member4, email\n",
    "   - team member5, email"
   ]
  },
  {
   "cell_type": "markdown",
   "metadata": {},
   "source": [
    "## git repo url\n",
    "### you can find our git repo [here](https://github.com/setholindaman/Group-Project-1.git)\n"
   ]
  },
  {
   "cell_type": "markdown",
   "metadata": {},
   "source": []
  }
 ],
 "metadata": {
  "kernelspec": {
   "display_name": "Python 3",
   "language": "python",
   "name": "python3"
  },
  "language_info": {
   "codemirror_mode": {
    "name": "ipython",
    "version": 3
   },
   "file_extension": ".py",
   "mimetype": "text/x-python",
   "name": "python",
   "nbconvert_exporter": "python",
   "pygments_lexer": "ipython3",
   "version": "3.7.0"
  }
 },
 "nbformat": 4,
 "nbformat_minor": 2
}
