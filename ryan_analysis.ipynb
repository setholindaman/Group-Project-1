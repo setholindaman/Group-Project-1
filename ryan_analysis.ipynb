{
 "cells": [
  {
   "cell_type": "code",
   "execution_count": null,
   "metadata": {},
   "outputs": [],
   "source": [
    "# import modules\n",
    "import csv\n",
    "import requests\n",
    "import json\n",
    "import pandas as pd\n",
    "import matplotlib.pyplot as plt\n",
    "%matplotlib inline"
   ]
  },
  {
   "cell_type": "code",
   "execution_count": null,
   "metadata": {},
   "outputs": [],
   "source": [
    "#set path for dataframe to build boxplot\n",
    "\n",
    "regional_data_path = \"./happiness2016.csv\"\n",
    "\n",
    "regional_df = pd.read_csv(regional_data_path)\n",
    "\n",
    "regional_df.head()"
   ]
  },
  {
   "cell_type": "code",
   "execution_count": null,
   "metadata": {},
   "outputs": [],
   "source": [
    "#define my variables and create a list and identify unique regions\n",
    "\n",
    "country_whisker_df = regional_df[['Country', 'Region', 'Happiness Score', 'Economy (GDP per Capita)']]\n",
    "\n",
    "#country_whisker_df[\"Region\"].unique()\n",
    "\n",
    "country_whisker_df.head()"
   ]
  },
  {
   "cell_type": "code",
   "execution_count": null,
   "metadata": {},
   "outputs": [],
   "source": [
    "#create seperate DFs based on region\n",
    "\n",
    "western_europe_region = country_whisker_df.loc[country_whisker_df[\"Region\"] == \"Western Europe\"]\n",
    "western_europe_whisker = western_europe_region['Happiness Score']\n",
    "\n",
    "subsaharan_africa_region = country_whisker_df.loc[country_whisker_df[\"Region\"] == \"Sub-Saharan Africa\"]\n",
    "subsaharan_whisker = subsaharan_africa_region['Happiness Score']\n",
    "\n",
    "middle_east_region = country_whisker_df.loc[country_whisker_df[\"Region\"] == \"Middle East and Northern Africa\"]\n",
    "middle_east_whisker = middle_east_region['Happiness Score']\n",
    "\n",
    "southeastern_asia_region = country_whisker_df.loc[country_whisker_df[\"Region\"] == \"Southeastern Asia\"]\n",
    "southeastern_asia_whisker = southeastern_asia_region['Happiness Score']\n",
    "\n",
    "southern_asia_region = country_whisker_df.loc[country_whisker_df[\"Region\"] == \"Southern Asia\"]\n",
    "southern_asia_whisker = southern_asia_region['Happiness Score']\n",
    "\n",
    "latin_america_region = country_whisker_df.loc[country_whisker_df[\"Region\"] == \"Latin America and Caribbean\"]\n",
    "latin_america_whisker = latin_america_region['Happiness Score']\n",
    "\n",
    "central_europe_region = country_whisker_df.loc[country_whisker_df[\"Region\"] == \"Central and Eastern Europe\"]\n",
    "central_europe_whisker = central_europe_region['Happiness Score']\n",
    "\n",
    "western_europe_region = country_whisker_df.loc[country_whisker_df[\"Region\"] == \"Western Europe\"]\n",
    "western_europe_whisker = western_europe_region['Happiness Score']\n",
    "\n",
    "north_american_region = country_whisker_df.loc[country_whisker_df[\"Region\"] == \"North America\"]\n",
    "north_american_whisker = north_american_region['Happiness Score']\n",
    "\n",
    "austrailian_region = country_whisker_df.loc[country_whisker_df[\"Region\"] == \"Australia and New Zealand\"]\n",
    "austrailian_whisker = austrailian_region['Happiness Score']\n",
    "\n",
    "whisker_data = [western_europe_whisker, subsaharan_whisker, middle_east_whisker,\n",
    "               southeastern_asia_whisker, southern_asia_whisker, latin_america_whisker,\n",
    "               central_europe_whisker, western_europe_whisker, north_american_whisker,\n",
    "               austrailian_whisker]\n",
    "\n",
    "labels = [\"Western Europe\", \"Sub-Saharan Africa\", \"Middle East and Northern Africa\", \n",
    "         \"Southeastern Asia\", \"Southern Asia\", \"Latin America and Caribbean\",\n",
    "          \"Central and Eastern Europe\", \"Western Europe\", \"North America\",\n",
    "          \"Australia and New Zealand\"]\n"
   ]
  },
  {
   "cell_type": "code",
   "execution_count": null,
   "metadata": {},
   "outputs": [],
   "source": [
    "#boxplot by region to study regional trends in happiness\n",
    "\n",
    "# Create a figure instance\n",
    "fig = plt.figure(1, figsize=(15, 7))\n",
    "\n",
    "# Create an axes instance\n",
    "ax = fig.add_subplot(111)\n",
    "\n",
    "# Create the boxplot\n",
    "bp = ax.boxplot(whisker_data, patch_artist=True)\n",
    "\n",
    "\n",
    "#define axis labels and Title\n",
    "plt.title(\"2016 Happiness Score by Region\")\n",
    "plt.ylabel(\"Happiness Score\")\n",
    "\n",
    "\n",
    "# fill with colors\n",
    "colors = ['pink', 'lightblue', 'lightgreen', 'darkgreen', 'yellow', 'blue', 'green', 'orange', 'magenta', 'red']\n",
    "for bplot in (bp):\n",
    "    for patch, color in zip(bp['boxes'], colors):\n",
    "        patch.set_facecolor(color)\n",
    "        \n",
    "#GOTO figure out how to get my legend points w        \n",
    "legend = plt.legend(title=(\"Regions\"), handles=bp['boxes'],\n",
    "                   labels=labels)\n",
    "\n",
    "#ax.legend(bp['boxes'])\n",
    "\n",
    "plt.text(0, 2, 'Note:', fontsize=11)\n",
    "plt.text(0.5, 2, 'Happiness Score based on an evaluation of six factors: economic production, social support, life expectancy, freedom, absence of corruption, and generosity', fontsize=11)\n",
    "\n",
    "\n",
    "# Save the figure\n",
    "fig.savefig('fig1.png', bbox_inches='tight')\n"
   ]
  }
 ],
 "metadata": {
  "kernelspec": {
   "display_name": "Python 3",
   "language": "python",
   "name": "python3"
  },
  "language_info": {
   "codemirror_mode": {
    "name": "ipython",
    "version": 3
   },
   "file_extension": ".py",
   "mimetype": "text/x-python",
   "name": "python",
   "nbconvert_exporter": "python",
   "pygments_lexer": "ipython3",
   "version": "3.7.1"
  }
 },
 "nbformat": 4,
 "nbformat_minor": 2
}
