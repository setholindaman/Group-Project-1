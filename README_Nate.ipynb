{
 "cells": [
  {
   "cell_type": "markdown",
   "metadata": {},
   "source": [
    "# DU Data Viz Project Proposal\n",
    "## Team {your team name}"
   ]
  },
  {
   "attachments": {},
   "cell_type": "markdown",
   "metadata": {},
   "source": [
    "## { your project title}\n",
    "\n",
    "{your project description. two or three plain-English sentences describing the question, the data, the goal}"
   ]
  },
  {
   "cell_type": "markdown",
   "metadata": {},
   "source": [
    "## Team Members\n",
    "\n",
    " - {team member name 1} {team member email 1}\n",
    " - {team member name 2} {team member email 2}\n",
    " "
   ]
  },
  {
   "cell_type": "markdown",
   "metadata": {},
   "source": [
    "## Git Repo URL\n",
    "You can find our git repo [here](https://du.bootcampcontent.com/theredpea/nate-one-is-the-loneliest-number-project.git \"tooltip if you want\")\n"
   ]
  },
  {
   "cell_type": "markdown",
   "metadata": {},
   "source": [
    "## Research Question(s)\n",
    "{summarize your question(s). Include relevant inspiration (i.e. links to articles (ala \"banking deserts\" from the Atlantic; recent regulation)}"
   ]
  },
  {
   "cell_type": "markdown",
   "metadata": {},
   "source": [
    "## Data Set(s)\n",
    "\n",
    "{list your datasets, or describe them; \n",
    "\n",
    "where possible, give us links to the pages with the data in it}\n",
    "\n",
    "  - { dataset 1}\n",
    "  - { dataset 2}"
   ]
  },
  {
   "cell_type": "markdown",
   "metadata": {},
   "source": [
    "## Task Planning\n",
    "\n",
    "{try to sketch a plan of the separate pieces of work that need to be done;\n",
    "for example: \n",
    "1. get the data from data 1   __@Nate__\n",
    "2. analyze the data from data 1 __@Nate__\n",
    "3. get the data from data 2 __@Nate__\n",
    "4. merge the two datas __@Nate__\n",
    "5. analyze the data __@Nate__\n",
    "\n",
    "or more \"universal\" tasks:\n",
    " - prep the \"final polished presentation\" ipynb\n",
    " - ..."
   ]
  },
  {
   "cell_type": "code",
   "execution_count": null,
   "metadata": {},
   "outputs": [],
   "source": []
  }
 ],
 "metadata": {
  "kernelspec": {
   "display_name": "Python 3",
   "language": "python",
   "name": "python3"
  },
  "language_info": {
   "codemirror_mode": {
    "name": "ipython",
    "version": 3
   },
   "file_extension": ".py",
   "mimetype": "text/x-python",
   "name": "python",
   "nbconvert_exporter": "python",
   "pygments_lexer": "ipython3",
   "version": "3.7.1"
  }
 },
 "nbformat": 4,
 "nbformat_minor": 2
}
