{
 "cells": [
  {
   "cell_type": "markdown",
   "metadata": {},
   "source": [
    "# DU Data Viz Project Proposal\n",
    "## Team: Fab 5"
   ]
  },
  {
   "cell_type": "markdown",
   "metadata": {},
   "source": [
    "## Happiness vs Indicators\n",
    "\n",
    "Questions:\n",
    "Is there a coorelation between indicators and overall happiness?\n",
    "\n",
    "Data: \n",
    "World Bank API\n",
    "world happiness report\n",
    "\n",
    "Goal:\n",
    "Show either a positive or negative coorelation of warm weather with overall happiness"
   ]
  },
  {
   "cell_type": "markdown",
   "metadata": {},
   "source": [
    "### Team members\n",
    "\n",
    "   - Seth Lindaman, setholindaman@gmail.com\n",
    "   - Mona Arami, memol73@yahoo.com\n",
    "   - Mendie Elit, mendie.elit@outlook.com\n",
    "   - Ryan Kulpack, rkulback@live.com\n",
    "   - Dawn Roedel, dawnamateo73@gmail.com"
   ]
  },
  {
   "cell_type": "markdown",
   "metadata": {},
   "source": [
    "## Git repo url\n",
    "### You can find our git repo [here](https://github.com/setholindaman/Group-Project-1.git)\n"
   ]
  },
  {
   "cell_type": "markdown",
   "metadata": {},
   "source": [
    "## Research Question(s)\n",
    "### Summarize your question(s), include relevant inspiration(i.e. links to articles(ala\"banking deserts\" from the atlantic, recent regulation\n",
    "\n",
    "We would like to show either a positive or negative coorelation between several indicators and overall happiness of a countries citizens. We were inspired by a Forbes magazine article [here](https://www.forbes.com/sites/duncanmadden/2019/03/28/ranked-the-10-happiest-countries-in-the-world-in-2019/#18b8208748a5)"
   ]
  },
  {
   "cell_type": "markdown",
   "metadata": {},
   "source": [
    "## Data sets to be used\n",
    "\n",
    "- World Happiness Report [link](https://www.kaggle.com/unsdsn/world-happiness)\n",
    "- World Bank API [link](http://climatedataapi.worldbank.org/)"
   ]
  },
  {
   "cell_type": "markdown",
   "metadata": {},
   "source": [
    "# Task Planning\n",
    "\n",
    "- get World happiness data and analyze (Mendie, Mona, and Dawn)\n",
    "- get World Bank API data and analyze (Seth & Ryan)\n",
    "- create powerpoint presentation (Seth)\n",
    "- prep the \"final published presentation\" ipynb (group)"
   ]
  },
  {
   "cell_type": "code",
   "execution_count": null,
   "metadata": {},
   "outputs": [],
   "source": []
  }
 ],
 "metadata": {
  "kernelspec": {
   "display_name": "Python 3",
   "language": "python",
   "name": "python3"
  },
  "language_info": {
   "codemirror_mode": {
    "name": "ipython",
    "version": 3
   },
   "file_extension": ".py",
   "mimetype": "text/x-python",
   "name": "python",
   "nbconvert_exporter": "python",
   "pygments_lexer": "ipython3",
   "version": "3.7.0"
  }
 },
 "nbformat": 4,
 "nbformat_minor": 2
}
