{
 "cells": [
  {
   "cell_type": "markdown",
   "metadata": {},
   "source": [
    "# DU Data Viz Project Proposal\n",
    "## Team: Seth, Mona, Ryan, Mendie, Dawn"
   ]
  },
  {
   "cell_type": "markdown",
   "metadata": {},
   "source": [
    "## Project Title\n",
    "### Project Description - question, data, goal"
   ]
  },
  {
   "cell_type": "markdown",
   "metadata": {},
   "source": [
    "### Team members\n",
    "\n",
    "   - Seth Lindaman, setholindaman@gmail.com\n",
    "   - Mona Arami, memol73@yahoo.com\n",
    "   - Mendie, mendie.elit@outlook.com\n",
    "   - Ryan, rkulback@live.com\n",
    "   - Dawn, dawnamateo73@gmail.com"
   ]
  },
  {
   "cell_type": "markdown",
   "metadata": {},
   "source": [
    "## git repo url\n",
    "### you can find our git repo [here](https://github.com/setholindaman/Group-Project-1.git)\n"
   ]
  },
  {
   "cell_type": "markdown",
   "metadata": {},
   "source": [
    "## Research Question(s)\n",
    "### summarize your question(s), include relevant inspiration(i.e. links to articles(ala\"banking deserts\" from the atlantic, recent regulation"
   ]
  },
  {
   "cell_type": "markdown",
   "metadata": {},
   "source": [
    "## Data sets to be used\n",
    "### lis your datasets, or describe them. Provide links to pages with data if available"
   ]
  },
  {
   "cell_type": "markdown",
   "metadata": {},
   "source": [
    "# Task Planning\n",
    "## Breakdown of tasks for example\n",
    "- get the daata from data 1(name)\n",
    "- anayze the data from data 1(name)\n",
    "- get the data from data 2\n",
    "- merge the two data sets\n",
    "- analyze the data\n",
    "\n",
    "## or more \"universal\" tasks:\n",
    "- prep the \"final plished presentation\" ipynb\n",
    "- \n",
    "- "
   ]
  },
  {
   "cell_type": "code",
   "execution_count": null,
   "metadata": {},
   "outputs": [],
   "source": []
  }
 ],
 "metadata": {
  "kernelspec": {
   "display_name": "Python 3",
   "language": "python",
   "name": "python3"
  },
  "language_info": {
   "codemirror_mode": {
    "name": "ipython",
    "version": 3
   },
   "file_extension": ".py",
   "mimetype": "text/x-python",
   "name": "python",
   "nbconvert_exporter": "python",
   "pygments_lexer": "ipython3",
   "version": "3.7.0"
  }
 },
 "nbformat": 4,
 "nbformat_minor": 2
}
