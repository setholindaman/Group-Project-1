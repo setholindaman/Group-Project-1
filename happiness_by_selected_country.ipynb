{
 "cells": [
  {
   "cell_type": "code",
   "execution_count": 1,
   "metadata": {},
   "outputs": [
    {
     "data": {
      "text/html": [
       "<div>\n",
       "<style scoped>\n",
       "    .dataframe tbody tr th:only-of-type {\n",
       "        vertical-align: middle;\n",
       "    }\n",
       "\n",
       "    .dataframe tbody tr th {\n",
       "        vertical-align: top;\n",
       "    }\n",
       "\n",
       "    .dataframe thead th {\n",
       "        text-align: right;\n",
       "    }\n",
       "</style>\n",
       "<table border=\"1\" class=\"dataframe\">\n",
       "  <thead>\n",
       "    <tr style=\"text-align: right;\">\n",
       "      <th></th>\n",
       "      <th>Country</th>\n",
       "      <th>Happiness Rank</th>\n",
       "      <th>Happiness Score</th>\n",
       "      <th>Economy (GDP per Capita)</th>\n",
       "      <th>Health (Life Expectancy)</th>\n",
       "      <th>Freedom</th>\n",
       "    </tr>\n",
       "  </thead>\n",
       "  <tbody>\n",
       "    <tr>\n",
       "      <th>0</th>\n",
       "      <td>Finland</td>\n",
       "      <td>1</td>\n",
       "      <td>7.632</td>\n",
       "      <td>1.305</td>\n",
       "      <td>0.874</td>\n",
       "      <td>0.681</td>\n",
       "    </tr>\n",
       "    <tr>\n",
       "      <th>1</th>\n",
       "      <td>Norway</td>\n",
       "      <td>2</td>\n",
       "      <td>7.594</td>\n",
       "      <td>1.456</td>\n",
       "      <td>0.861</td>\n",
       "      <td>0.686</td>\n",
       "    </tr>\n",
       "    <tr>\n",
       "      <th>2</th>\n",
       "      <td>Denmark</td>\n",
       "      <td>3</td>\n",
       "      <td>7.555</td>\n",
       "      <td>1.351</td>\n",
       "      <td>0.868</td>\n",
       "      <td>0.683</td>\n",
       "    </tr>\n",
       "    <tr>\n",
       "      <th>3</th>\n",
       "      <td>Iceland</td>\n",
       "      <td>4</td>\n",
       "      <td>7.495</td>\n",
       "      <td>1.343</td>\n",
       "      <td>0.914</td>\n",
       "      <td>0.677</td>\n",
       "    </tr>\n",
       "    <tr>\n",
       "      <th>4</th>\n",
       "      <td>Switzerland</td>\n",
       "      <td>5</td>\n",
       "      <td>7.487</td>\n",
       "      <td>1.420</td>\n",
       "      <td>0.927</td>\n",
       "      <td>0.660</td>\n",
       "    </tr>\n",
       "  </tbody>\n",
       "</table>\n",
       "</div>"
      ],
      "text/plain": [
       "       Country  Happiness Rank  Happiness Score  Economy (GDP per Capita)  \\\n",
       "0      Finland               1            7.632                     1.305   \n",
       "1       Norway               2            7.594                     1.456   \n",
       "2      Denmark               3            7.555                     1.351   \n",
       "3      Iceland               4            7.495                     1.343   \n",
       "4  Switzerland               5            7.487                     1.420   \n",
       "\n",
       "   Health (Life Expectancy)  Freedom  \n",
       "0                     0.874    0.681  \n",
       "1                     0.861    0.686  \n",
       "2                     0.868    0.683  \n",
       "3                     0.914    0.677  \n",
       "4                     0.927    0.660  "
      ]
     },
     "execution_count": 1,
     "metadata": {},
     "output_type": "execute_result"
    }
   ],
   "source": [
    "%matplotlib inline\n",
    "import matplotlib.pyplot as plt\n",
    "import pandas as pd\n",
    "import numpy as np\n",
    "import os\n",
    "from scipy.stats import sem\n",
    "from scipy.stats import stats\n",
    "from scipy.stats import ttest_ind\n",
    "\n",
    "\n",
    "# File to Load (Remember to Change These)\n",
    "dataset_2018 = \"Dataset/2018.csv\"\n",
    "\n",
    "# Read the Mouse and Drug Data and the Clinical Trial Data\n",
    "dataset_2018_df = pd.read_csv(dataset_2018)\n",
    "\n",
    "dataset_2018_df.head () \n",
    "# list(merge_dataset_df.columns)\n",
    "\n"
   ]
  },
  {
   "cell_type": "code",
   "execution_count": 2,
   "metadata": {},
   "outputs": [
    {
     "name": "stdout",
     "output_type": "stream",
     "text": [
      "['Finland', 'Norway', 'Denmark', 'Iceland', 'Switzerland', 'Netherlands', 'Canada', 'New Zealand', 'Sweden', 'Australia', 'Israel', 'Austria', 'Costa Rica', 'Ireland', 'Germany', 'Belgium', 'Luxembourg', 'United States', 'United Kingdom', 'United Arab Emirates', 'Czech Republic', 'Malta', 'France', 'Mexico', 'Chile', 'Taiwan', 'Panama', 'Brazil', 'Argentina', 'Guatemala', 'Uruguay', 'Qatar', 'Saudi Arabia', 'Singapore', 'Malaysia', 'Spain', 'Colombia', 'Trinidad & Tobago', 'Slovakia', 'El Salvador', 'Nicaragua', 'Poland', 'Bahrain', 'Uzbekistan', 'Kuwait', 'Thailand', 'Italy', 'Ecuador', 'Belize', 'Lithuania', 'Slovenia', 'Romania', 'Latvia', 'Japan', 'Mauritius', 'Jamaica', 'South Korea', 'Northern Cyprus', 'Russia', 'Kazakhstan', 'Cyprus', 'Bolivia', 'Estonia', 'Paraguay', 'Peru', 'Kosovo', 'Moldova', 'Turkmenistan', 'Hungary', 'Libya', 'Philippines', 'Honduras', 'Belarus', 'Turkey', 'Pakistan', 'Hong Kong', 'Portugal', 'Serbia', 'Greece', 'Tajikistan', 'Montenegro', 'Croatia', 'Dominican Republic', 'Algeria', 'Morocco', 'China', 'Azerbaijan', 'Lebanon', 'Macedonia', 'Jordan', 'Nigeria', 'Kyrgyzstan', 'Bosnia and Herzegovina', 'Mongolia', 'Vietnam', 'Indonesia', 'Bhutan', 'Somalia', 'Cameroon', 'Bulgaria', 'Nepal', 'Venezuela', 'Gabon', 'Palestinian Territories', 'South Africa', 'Iran', 'Ivory Coast', 'Ghana', 'Senegal', 'Laos', 'Tunisia', 'Albania', 'Sierra Leone', 'Congo (Brazzaville)', 'Bangladesh', 'Sri Lanka', 'Iraq', 'Mali', 'Namibia', 'Cambodia', 'Burkina Faso', 'Egypt', 'Mozambique', 'Kenya', 'Zambia', 'Mauritania', 'Ethiopia', 'Georgia', 'Armenia', 'Myanmar', 'Chad', 'Congo (Kinshasa)', 'India', 'Niger', 'Uganda', 'Benin', 'Sudan', 'Ukraine', 'Togo', 'Guinea', 'Lesotho', 'Angola', 'Madagascar', 'Zimbabwe', 'Afghanistan', 'Botswana', 'Malawi', 'Haiti', 'Liberia', 'Syria', 'Rwanda', 'Yemen', 'Tanzania', 'South Sudan', 'Central African Republic', 'Burundi']\n"
     ]
    }
   ],
   "source": [
    "countris_list = list(dataset_2018_df['Country'])\n",
    "print (countris_list)\n"
   ]
  },
  {
   "cell_type": "code",
   "execution_count": 3,
   "metadata": {},
   "outputs": [
    {
     "name": "stdout",
     "output_type": "stream",
     "text": [
      "You have selected Ireland by hitting Done\n",
      "You clicked Done, and this is your Country choice: Ireland\n"
     ]
    }
   ],
   "source": [
    "try:\n",
    "    # Python2\n",
    "    import Tkinter as tk\n",
    "except ImportError:\n",
    "    # Python3\n",
    "    import tkinter as tk\n",
    "    from tkinter import *\n",
    "\n",
    "    \n",
    "#def quit(root):\n",
    "#root.destroy()    \n",
    "\n",
    " \n",
    "root = tk.Tk()\n",
    "root.title(\"World Happiness (Bar Chart)\")\n",
    " \n",
    "# Add a grid\n",
    "mainframe = Frame(root)\n",
    "mainframe.grid(column=0,row=0, sticky=(N,W,E,S) )\n",
    "mainframe.columnconfigure(0, weight = 1)\n",
    "mainframe.rowconfigure(0, weight = 1)\n",
    "mainframe.pack(pady = 100, padx = 100)\n",
    "\n",
    "# Create a Tkinter variable\n",
    "tkvar = StringVar(root)\n",
    " \n",
    "# Dictionary with options\n",
    "choices = countris_list\n",
    "tkvar.set('United States') # set the default option\n",
    " \n",
    "popupMenu = OptionMenu(mainframe, tkvar, *choices)\n",
    "Label(mainframe, text=\"Choose a Country\").grid(row = 1, column = 1)\n",
    "popupMenu.grid(row = 2, column =1)\n",
    " \n",
    "# on change dropdown value\n",
    "def change_dropdown(*args):\n",
    "#     print( tkvar.get() )\n",
    "    country_selected = tkvar.get()\n",
    "    print(f\"You have selected {country_selected} by hitting Done\")\n",
    "          \n",
    "# link function to change dropdown\n",
    "tkvar.trace('w', change_dropdown)\n",
    "Button(root, text=\"Done\", command=root.quit).pack() \n",
    "# tk.Button(root, text=\"Quit\", command=lambda root=root:quit(root)).pack()\n",
    "root.mainloop()\n",
    "country_selected = tkvar.get()\n",
    "print(f\"You clicked Done, and this is your Country choice: {country_selected}\")"
   ]
  },
  {
   "cell_type": "code",
   "execution_count": 4,
   "metadata": {
    "scrolled": true
   },
   "outputs": [
    {
     "name": "stdout",
     "output_type": "stream",
     "text": [
      "    Country  Happiness Rank  Happiness Score  Economy (GDP per Capita)  \\\n",
      "13  Ireland              14            6.977                     1.448   \n",
      "\n",
      "    Health (Life Expectancy)  Freedom  \n",
      "13                     0.876    0.614  \n"
     ]
    }
   ],
   "source": [
    "selected_country_row = dataset_2018_df.loc[dataset_2018_df['Country'] == country_selected]\n",
    "selected_country_row_happy_score = selected_country_row[\"Happiness Score\"].values[0]\n",
    "selected_country_row = pd.DataFrame(selected_country_row)\n",
    "\n",
    "print(selected_country_row)\n"
   ]
  },
  {
   "cell_type": "code",
   "execution_count": 10,
   "metadata": {},
   "outputs": [
    {
     "data": {
      "image/png": "[encoded data removed]",
      "text/plain": [
       "<Figure size 1080x720 with 1 Axes>"
      ]
     },
     "metadata": {
      "needs_background": "light"
     },
     "output_type": "display_data"
    }
   ],
   "source": [
    "selected_country_row = dataset_2018_df.loc[dataset_2018_df['Country'] == country_selected]\n",
    "\n",
    "ax = selected_country_row[[\"Economy (GDP per Capita)\",\"Freedom\",\"Health (Life Expectancy)\"]]\\\n",
    ".plot(kind='bar', title =(country_selected), figsize=(15, 10), legend=True, fontsize=12)\n",
    "ax.set_xlabel( \"Economy, Freedom and Health\", fontsize=12)\n",
    "ax.set_ylabel(\"Happiness Score\", fontsize=12)\n",
    "plt.show()"
   ]
  },
  {
   "cell_type": "code",
   "execution_count": 7,
   "metadata": {},
   "outputs": [
    {
     "ename": "SyntaxError",
     "evalue": "invalid syntax (<ipython-input-7-8e047ef52e04>, line 8)",
     "output_type": "error",
     "traceback": [
      "\u001b[1;36m  File \u001b[1;32m\"<ipython-input-7-8e047ef52e04>\"\u001b[1;36m, line \u001b[1;32m8\u001b[0m\n\u001b[1;33m    ttest_ind(Happiness[\"Happiness Score\"], Ecomomy[\"Economy (GDP per Capita)\"])\u001b[0m\n\u001b[1;37m            ^\u001b[0m\n\u001b[1;31mSyntaxError\u001b[0m\u001b[1;31m:\u001b[0m invalid syntax\n"
     ]
    }
   ],
   "source": [
    "# t-test\n",
    "cat1 =dataset_2018_df.loc[dataset_2018_df['Happiness Score']=='Happiness']\n",
    "cat2 = mdataset_2018_df.loc[dataset_2018_df['Economy (GDP per Capita)']=='Economy'\n",
    "\n",
    "ttest_ind(Happiness[\"Happiness Score\"], Ecomomy[\"Economy (GDP per Capita)\"])\n",
    "\n",
    "if p < 0.05:\n",
    "    print(\"The differences between the Economy and Happiness scores are significant.\")\n",
    "else:\n",
    "    print(\"The differences between the Economy and Happiness scores are due to chance.\")"
   ]
  },
  {
   "cell_type": "code",
   "execution_count": null,
   "metadata": {},
   "outputs": [],
   "source": []
  },
  {
   "cell_type": "code",
   "execution_count": null,
   "metadata": {},
   "outputs": [],
   "source": []
  }
 ],
 "metadata": {
  "kernelspec": {
   "display_name": "Python 3",
   "language": "python",
   "name": "python3"
  },
  "language_info": {
   "codemirror_mode": {
    "name": "ipython",
    "version": 3
   },
   "file_extension": ".py",
   "mimetype": "text/x-python",
   "name": "python",
   "nbconvert_exporter": "python",
   "pygments_lexer": "ipython3",
   "version": "3.7.0"
  }
 },
 "nbformat": 4,
 "nbformat_minor": 2
}
